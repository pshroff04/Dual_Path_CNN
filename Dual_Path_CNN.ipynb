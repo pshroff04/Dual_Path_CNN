{
 "cells": [
  {
   "cell_type": "code",
   "execution_count": 5,
   "metadata": {},
   "outputs": [
    {
     "data": {
      "text/plain": [
       "<torch._C.Generator at 0x2387f9e4f10>"
      ]
     },
     "execution_count": 5,
     "metadata": {},
     "output_type": "execute_result"
    }
   ],
   "source": [
    "import torch\n",
    "import torch.nn as nn\n",
    "from torchvision.models import resnet50\n",
    "\n",
    "torch.random.manual_seed(1)"
   ]
  },
  {
   "cell_type": "code",
   "execution_count": 2,
   "metadata": {},
   "outputs": [],
   "source": [
    "#Dataset and preprocessing"
   ]
  },
  {
   "cell_type": "code",
   "execution_count": 13,
   "metadata": {},
   "outputs": [
    {
     "data": {
      "text/plain": [
       "torch.Size([2, 2048])"
      ]
     },
     "execution_count": 13,
     "metadata": {},
     "output_type": "execute_result"
    }
   ],
   "source": [
    "#Model\n",
    "class ImageCNN(nn.Module):\n",
    "    \n",
    "    def __init__(self):\n",
    "        super(ImageCNN, self).__init__()\n",
    "        re = resnet50(pretrained=True)\n",
    "        #remove the last classification layer\n",
    "        self.resnet = nn.Sequential(*list(re.children())[:-1])\n",
    "        self.fc = nn.Linear(2048, 2048)\n",
    "        self.bn = nn.BatchNorm1d(2048)\n",
    "        self.relu = nn.ReLU()\n",
    "        self.dropOut = nn.Dropout(0.8)\n",
    "        \n",
    "    def forward(self, x):\n",
    "        x = self.resnet(x) # (N,2048,1,1)\n",
    "        x = torch.flatten(x,1) # (N,2048)\n",
    "        x = self.relu(self.bn(self.fc(x)))\n",
    "        x = self.relu(self.bn(self.fc(x))) # As per their MATLAB implementation\n",
    "        return self.dropOut(x)\n",
    "\n",
    "#Test Model -> Input (N,3,224,224) and Output (N,2048)\n",
    "# net = ImageCNN()\n",
    "# x= torch.rand((2,3,224,224))\n",
    "# print(net(x).shape)    "
   ]
  },
  {
   "cell_type": "code",
   "execution_count": 129,
   "metadata": {},
   "outputs": [],
   "source": [
    "#textCNN -> The input should be the output of word2vec (N,300,32,1)\n",
    "class BasicBlockText(nn.Module):\n",
    "    \n",
    "    def __init__(self, input_channel, intermediate_channel):\n",
    "        super(BasicBlockText, self).__init__()\n",
    "        self.bbConv1 = nn.Conv2d(input_channel, intermediate_channel, kernel_size=(1,1), stride=(1,1), padding=(0,0), bias=False)\n",
    "        self.bbBatchNorm1 = nn.BatchNorm2d(intermediate_channel)\n",
    "        self.relu = nn.ReLU()\n",
    "        \n",
    "        self.bbConv2 = nn.Conv2d(intermediate_channel, intermediate_channel, kernel_size=(1,2), stride=(1,1), padding=(1,1),bias=False)\n",
    "        self.bbBatchNorm2 = nn.BatchNorm2d(intermediate_channel)\n",
    "        \n",
    "        self.bbConv3 = nn.Conv2d(intermediate_channel, input_channel, kernel_size=(1,1), stride=(1,1), padding=(0,0), bias=False)\n",
    "        self.bbBatchNorm3 = nn.BatchNorm2d(input_channel)\n",
    "        \n",
    "    def forward(self, x):\n",
    "        identity  = x\n",
    "        out = self.relu(self.bbBatchNorm1(self.bbConv1(x)))\n",
    "        out = self.relu(self.bbBatchNorm2(self.bbConv2(out)))\n",
    "        out = self.bbBatchNorm3(self.bbConv3(out))\n",
    "        \n",
    "        out += identity\n",
    "        return self.relu(out)\n",
    "\n",
    "def __make__layer(input_channel, intermediate_channel, num_blocks):\n",
    "    layers = []\n",
    "    for i in range(num_block):\n",
    "        layers.append(BasicBlockText(input_channel, intermediate_channel))\n",
    "    return nn.Sequential(*layers)\n",
    "        \n",
    "class textCNN(nn.Module):\n",
    "    \n",
    "    def __init__(self, input_channel): #300\n",
    "        super(textCNN, self).__init__()\n",
    "        self.relu = nn.ReLU()\n",
    "        #--------First CNN block----------------\n",
    "        self.iConv1 = nn.Conv2d(input_channel, 128, \n",
    "                                 kernel_size=(1,1), stride=(1,1), \n",
    "                                 padding=(0,0), bias=False)\n",
    "        self.b1bn1 = nn.BatchNorm2d(128)\n",
    "        \n",
    "        self.b1Conv2 = nn.Conv2d(128, 128, \n",
    "                                 kernel_size=(1,2), stride=(1,1), \n",
    "                                 padding=(0,1), bias=False, dilation=(1,2))\n",
    "        self.b1bn2 = nn.BatchNorm2d(128)\n",
    "        \n",
    "        self.b1Conv3 = nn.Conv2d(128, 256, \n",
    "                                 kernel_size=(1,1), stride=(1,1), \n",
    "                                 padding=(0,0), bias=False)\n",
    "        self.b1bn3 = nn.BatchNorm2d(256)\n",
    "        \n",
    "        #input here too\n",
    "        self.iConv2 = nn.Conv2d(input_channel, 256,\n",
    "                               kernel_size=(1,1), stride=(1,1), \n",
    "                               padding=(0,0), bias=False)\n",
    "        self.b1bn4 = nn.BatchNorm2d(256)\n",
    "\n",
    "    def forward(self, x):\n",
    "        identity = x\n",
    "        out = self.relu(self.b1bn1(self.iConv1(x)))\n",
    "        out = self.relu(self.b1bn2(self.b1Conv2(out)))\n",
    "        out = self.b1bn3(self.b1Conv3(out))\n",
    "        print(out.shape)\n",
    "        out2 = self.b1bn4(self.iConv2(identity))\n",
    "        print(out2.shape)\n",
    "        out2 +=out\n",
    "        return self.relu(out2) # (N,256,32,1)"
   ]
  },
  {
   "cell_type": "code",
   "execution_count": 130,
   "metadata": {},
   "outputs": [],
   "source": [
    "net = textCNN(300)"
   ]
  },
  {
   "cell_type": "code",
   "execution_count": 131,
   "metadata": {},
   "outputs": [],
   "source": [
    "x = torch.rand(1,300,1,32)"
   ]
  },
  {
   "cell_type": "code",
   "execution_count": 132,
   "metadata": {},
   "outputs": [
    {
     "name": "stdout",
     "output_type": "stream",
     "text": [
      "torch.Size([1, 256, 3, 32])\n",
      "torch.Size([1, 256, 1, 32])\n"
     ]
    },
    {
     "ename": "RuntimeError",
     "evalue": "The expanded size of the tensor (1) must match the existing size (3) at non-singleton dimension 2",
     "output_type": "error",
     "traceback": [
      "\u001b[1;31m---------------------------------------------------------------------------\u001b[0m",
      "\u001b[1;31mRuntimeError\u001b[0m                              Traceback (most recent call last)",
      "\u001b[1;32m<ipython-input-132-81eb422b263e>\u001b[0m in \u001b[0;36m<module>\u001b[1;34m()\u001b[0m\n\u001b[1;32m----> 1\u001b[1;33m \u001b[0my\u001b[0m \u001b[1;33m=\u001b[0m \u001b[0mnet\u001b[0m\u001b[1;33m(\u001b[0m\u001b[0mx\u001b[0m\u001b[1;33m)\u001b[0m\u001b[1;33m\u001b[0m\u001b[0m\n\u001b[0m",
      "\u001b[1;32m~\\AppData\\Local\\conda\\conda\\envs\\mlenv\\lib\\site-packages\\torch\\nn\\modules\\module.py\u001b[0m in \u001b[0;36m__call__\u001b[1;34m(self, *input, **kwargs)\u001b[0m\n\u001b[0;32m    475\u001b[0m             \u001b[0mresult\u001b[0m \u001b[1;33m=\u001b[0m \u001b[0mself\u001b[0m\u001b[1;33m.\u001b[0m\u001b[0m_slow_forward\u001b[0m\u001b[1;33m(\u001b[0m\u001b[1;33m*\u001b[0m\u001b[0minput\u001b[0m\u001b[1;33m,\u001b[0m \u001b[1;33m**\u001b[0m\u001b[0mkwargs\u001b[0m\u001b[1;33m)\u001b[0m\u001b[1;33m\u001b[0m\u001b[0m\n\u001b[0;32m    476\u001b[0m         \u001b[1;32melse\u001b[0m\u001b[1;33m:\u001b[0m\u001b[1;33m\u001b[0m\u001b[0m\n\u001b[1;32m--> 477\u001b[1;33m             \u001b[0mresult\u001b[0m \u001b[1;33m=\u001b[0m \u001b[0mself\u001b[0m\u001b[1;33m.\u001b[0m\u001b[0mforward\u001b[0m\u001b[1;33m(\u001b[0m\u001b[1;33m*\u001b[0m\u001b[0minput\u001b[0m\u001b[1;33m,\u001b[0m \u001b[1;33m**\u001b[0m\u001b[0mkwargs\u001b[0m\u001b[1;33m)\u001b[0m\u001b[1;33m\u001b[0m\u001b[0m\n\u001b[0m\u001b[0;32m    478\u001b[0m         \u001b[1;32mfor\u001b[0m \u001b[0mhook\u001b[0m \u001b[1;32min\u001b[0m \u001b[0mself\u001b[0m\u001b[1;33m.\u001b[0m\u001b[0m_forward_hooks\u001b[0m\u001b[1;33m.\u001b[0m\u001b[0mvalues\u001b[0m\u001b[1;33m(\u001b[0m\u001b[1;33m)\u001b[0m\u001b[1;33m:\u001b[0m\u001b[1;33m\u001b[0m\u001b[0m\n\u001b[0;32m    479\u001b[0m             \u001b[0mhook_result\u001b[0m \u001b[1;33m=\u001b[0m \u001b[0mhook\u001b[0m\u001b[1;33m(\u001b[0m\u001b[0mself\u001b[0m\u001b[1;33m,\u001b[0m \u001b[0minput\u001b[0m\u001b[1;33m,\u001b[0m \u001b[0mresult\u001b[0m\u001b[1;33m)\u001b[0m\u001b[1;33m\u001b[0m\u001b[0m\n",
      "\u001b[1;32m<ipython-input-129-333e7d7d6c98>\u001b[0m in \u001b[0;36mforward\u001b[1;34m(self, x)\u001b[0m\n\u001b[0;32m     64\u001b[0m         \u001b[0mout2\u001b[0m \u001b[1;33m=\u001b[0m \u001b[0mself\u001b[0m\u001b[1;33m.\u001b[0m\u001b[0mb1bn4\u001b[0m\u001b[1;33m(\u001b[0m\u001b[0mself\u001b[0m\u001b[1;33m.\u001b[0m\u001b[0miConv2\u001b[0m\u001b[1;33m(\u001b[0m\u001b[0midentity\u001b[0m\u001b[1;33m)\u001b[0m\u001b[1;33m)\u001b[0m\u001b[1;33m\u001b[0m\u001b[0m\n\u001b[0;32m     65\u001b[0m         \u001b[0mprint\u001b[0m\u001b[1;33m(\u001b[0m\u001b[0mout2\u001b[0m\u001b[1;33m.\u001b[0m\u001b[0mshape\u001b[0m\u001b[1;33m)\u001b[0m\u001b[1;33m\u001b[0m\u001b[0m\n\u001b[1;32m---> 66\u001b[1;33m         \u001b[0mout2\u001b[0m \u001b[1;33m+=\u001b[0m\u001b[0mout\u001b[0m\u001b[1;33m\u001b[0m\u001b[0m\n\u001b[0m\u001b[0;32m     67\u001b[0m         \u001b[1;32mreturn\u001b[0m \u001b[0mself\u001b[0m\u001b[1;33m.\u001b[0m\u001b[0mrelu\u001b[0m\u001b[1;33m(\u001b[0m\u001b[0mout2\u001b[0m\u001b[1;33m)\u001b[0m \u001b[1;31m# (N,256,32,1)\u001b[0m\u001b[1;33m\u001b[0m\u001b[0m\n",
      "\u001b[1;31mRuntimeError\u001b[0m: The expanded size of the tensor (1) must match the existing size (3) at non-singleton dimension 2"
     ]
    }
   ],
   "source": [
    "y = net(x)"
   ]
  },
  {
   "cell_type": "code",
   "execution_count": 128,
   "metadata": {},
   "outputs": [
    {
     "data": {
      "text/plain": [
       "torch.Size([1, 256, 1, 32])"
      ]
     },
     "execution_count": 128,
     "metadata": {},
     "output_type": "execute_result"
    }
   ],
   "source": [
    "y.shape"
   ]
  },
  {
   "cell_type": "code",
   "execution_count": null,
   "metadata": {},
   "outputs": [],
   "source": []
  }
 ],
 "metadata": {
  "kernelspec": {
   "display_name": "Python 3",
   "language": "python",
   "name": "python3"
  },
  "language_info": {
   "codemirror_mode": {
    "name": "ipython",
    "version": 3
   },
   "file_extension": ".py",
   "mimetype": "text/x-python",
   "name": "python",
   "nbconvert_exporter": "python",
   "pygments_lexer": "ipython3",
   "version": "3.5.6"
  }
 },
 "nbformat": 4,
 "nbformat_minor": 2
}
